{
  "nbformat": 4,
  "nbformat_minor": 0,
  "metadata": {
    "colab": {
      "provenance": [],
      "include_colab_link": true
    },
    "kernelspec": {
      "name": "python3",
      "display_name": "Python 3"
    },
    "language_info": {
      "name": "python"
    },
    "accelerator": "GPU",
    "gpuClass": "standard",
    "widgets": {
      "application/vnd.jupyter.widget-state+json": {
        "562e4fadec1846e4a7354c0bfe68963b": {
          "model_module": "@jupyter-widgets/controls",
          "model_name": "HBoxModel",
          "model_module_version": "1.5.0",
          "state": {
            "_dom_classes": [],
            "_model_module": "@jupyter-widgets/controls",
            "_model_module_version": "1.5.0",
            "_model_name": "HBoxModel",
            "_view_count": null,
            "_view_module": "@jupyter-widgets/controls",
            "_view_module_version": "1.5.0",
            "_view_name": "HBoxView",
            "box_style": "",
            "children": [
              "IPY_MODEL_549e57e627a244d4b269223ff090ccc5",
              "IPY_MODEL_3507f0a2eee04b92bf4e62f219abb0eb",
              "IPY_MODEL_be8fcf0b789842eea015832e91196720"
            ],
            "layout": "IPY_MODEL_b3f1f0db3c784dd398d5cb74c92a95a5"
          }
        },
        "549e57e627a244d4b269223ff090ccc5": {
          "model_module": "@jupyter-widgets/controls",
          "model_name": "HTMLModel",
          "model_module_version": "1.5.0",
          "state": {
            "_dom_classes": [],
            "_model_module": "@jupyter-widgets/controls",
            "_model_module_version": "1.5.0",
            "_model_name": "HTMLModel",
            "_view_count": null,
            "_view_module": "@jupyter-widgets/controls",
            "_view_module_version": "1.5.0",
            "_view_name": "HTMLView",
            "description": "",
            "description_tooltip": null,
            "layout": "IPY_MODEL_0f0a52f220e144c5bb7bde6e68bae5cd",
            "placeholder": "​",
            "style": "IPY_MODEL_4259a2c92a9147aa8cfec92a5b7c2494",
            "value": "Downloading (…)okenizer_config.json: 100%"
          }
        },
        "3507f0a2eee04b92bf4e62f219abb0eb": {
          "model_module": "@jupyter-widgets/controls",
          "model_name": "FloatProgressModel",
          "model_module_version": "1.5.0",
          "state": {
            "_dom_classes": [],
            "_model_module": "@jupyter-widgets/controls",
            "_model_module_version": "1.5.0",
            "_model_name": "FloatProgressModel",
            "_view_count": null,
            "_view_module": "@jupyter-widgets/controls",
            "_view_module_version": "1.5.0",
            "_view_name": "ProgressView",
            "bar_style": "success",
            "description": "",
            "description_tooltip": null,
            "layout": "IPY_MODEL_fa6ec7a31c7547ec887c44106e6ccea6",
            "max": 282,
            "min": 0,
            "orientation": "horizontal",
            "style": "IPY_MODEL_47e7089fa9c74465a56fa545ead0e4f3",
            "value": 282
          }
        },
        "be8fcf0b789842eea015832e91196720": {
          "model_module": "@jupyter-widgets/controls",
          "model_name": "HTMLModel",
          "model_module_version": "1.5.0",
          "state": {
            "_dom_classes": [],
            "_model_module": "@jupyter-widgets/controls",
            "_model_module_version": "1.5.0",
            "_model_name": "HTMLModel",
            "_view_count": null,
            "_view_module": "@jupyter-widgets/controls",
            "_view_module_version": "1.5.0",
            "_view_name": "HTMLView",
            "description": "",
            "description_tooltip": null,
            "layout": "IPY_MODEL_b89b18f4823f4e3e83b60cfb261e2fa9",
            "placeholder": "​",
            "style": "IPY_MODEL_74b5c31af3ae4103bc0991144b4fe0a9",
            "value": " 282/282 [00:00&lt;00:00, 4.06kB/s]"
          }
        },
        "b3f1f0db3c784dd398d5cb74c92a95a5": {
          "model_module": "@jupyter-widgets/base",
          "model_name": "LayoutModel",
          "model_module_version": "1.2.0",
          "state": {
            "_model_module": "@jupyter-widgets/base",
            "_model_module_version": "1.2.0",
            "_model_name": "LayoutModel",
            "_view_count": null,
            "_view_module": "@jupyter-widgets/base",
            "_view_module_version": "1.2.0",
            "_view_name": "LayoutView",
            "align_content": null,
            "align_items": null,
            "align_self": null,
            "border": null,
            "bottom": null,
            "display": null,
            "flex": null,
            "flex_flow": null,
            "grid_area": null,
            "grid_auto_columns": null,
            "grid_auto_flow": null,
            "grid_auto_rows": null,
            "grid_column": null,
            "grid_gap": null,
            "grid_row": null,
            "grid_template_areas": null,
            "grid_template_columns": null,
            "grid_template_rows": null,
            "height": null,
            "justify_content": null,
            "justify_items": null,
            "left": null,
            "margin": null,
            "max_height": null,
            "max_width": null,
            "min_height": null,
            "min_width": null,
            "object_fit": null,
            "object_position": null,
            "order": null,
            "overflow": null,
            "overflow_x": null,
            "overflow_y": null,
            "padding": null,
            "right": null,
            "top": null,
            "visibility": null,
            "width": null
          }
        },
        "0f0a52f220e144c5bb7bde6e68bae5cd": {
          "model_module": "@jupyter-widgets/base",
          "model_name": "LayoutModel",
          "model_module_version": "1.2.0",
          "state": {
            "_model_module": "@jupyter-widgets/base",
            "_model_module_version": "1.2.0",
            "_model_name": "LayoutModel",
            "_view_count": null,
            "_view_module": "@jupyter-widgets/base",
            "_view_module_version": "1.2.0",
            "_view_name": "LayoutView",
            "align_content": null,
            "align_items": null,
            "align_self": null,
            "border": null,
            "bottom": null,
            "display": null,
            "flex": null,
            "flex_flow": null,
            "grid_area": null,
            "grid_auto_columns": null,
            "grid_auto_flow": null,
            "grid_auto_rows": null,
            "grid_column": null,
            "grid_gap": null,
            "grid_row": null,
            "grid_template_areas": null,
            "grid_template_columns": null,
            "grid_template_rows": null,
            "height": null,
            "justify_content": null,
            "justify_items": null,
            "left": null,
            "margin": null,
            "max_height": null,
            "max_width": null,
            "min_height": null,
            "min_width": null,
            "object_fit": null,
            "object_position": null,
            "order": null,
            "overflow": null,
            "overflow_x": null,
            "overflow_y": null,
            "padding": null,
            "right": null,
            "top": null,
            "visibility": null,
            "width": null
          }
        },
        "4259a2c92a9147aa8cfec92a5b7c2494": {
          "model_module": "@jupyter-widgets/controls",
          "model_name": "DescriptionStyleModel",
          "model_module_version": "1.5.0",
          "state": {
            "_model_module": "@jupyter-widgets/controls",
            "_model_module_version": "1.5.0",
            "_model_name": "DescriptionStyleModel",
            "_view_count": null,
            "_view_module": "@jupyter-widgets/base",
            "_view_module_version": "1.2.0",
            "_view_name": "StyleView",
            "description_width": ""
          }
        },
        "fa6ec7a31c7547ec887c44106e6ccea6": {
          "model_module": "@jupyter-widgets/base",
          "model_name": "LayoutModel",
          "model_module_version": "1.2.0",
          "state": {
            "_model_module": "@jupyter-widgets/base",
            "_model_module_version": "1.2.0",
            "_model_name": "LayoutModel",
            "_view_count": null,
            "_view_module": "@jupyter-widgets/base",
            "_view_module_version": "1.2.0",
            "_view_name": "LayoutView",
            "align_content": null,
            "align_items": null,
            "align_self": null,
            "border": null,
            "bottom": null,
            "display": null,
            "flex": null,
            "flex_flow": null,
            "grid_area": null,
            "grid_auto_columns": null,
            "grid_auto_flow": null,
            "grid_auto_rows": null,
            "grid_column": null,
            "grid_gap": null,
            "grid_row": null,
            "grid_template_areas": null,
            "grid_template_columns": null,
            "grid_template_rows": null,
            "height": null,
            "justify_content": null,
            "justify_items": null,
            "left": null,
            "margin": null,
            "max_height": null,
            "max_width": null,
            "min_height": null,
            "min_width": null,
            "object_fit": null,
            "object_position": null,
            "order": null,
            "overflow": null,
            "overflow_x": null,
            "overflow_y": null,
            "padding": null,
            "right": null,
            "top": null,
            "visibility": null,
            "width": null
          }
        },
        "47e7089fa9c74465a56fa545ead0e4f3": {
          "model_module": "@jupyter-widgets/controls",
          "model_name": "ProgressStyleModel",
          "model_module_version": "1.5.0",
          "state": {
            "_model_module": "@jupyter-widgets/controls",
            "_model_module_version": "1.5.0",
            "_model_name": "ProgressStyleModel",
            "_view_count": null,
            "_view_module": "@jupyter-widgets/base",
            "_view_module_version": "1.2.0",
            "_view_name": "StyleView",
            "bar_color": null,
            "description_width": ""
          }
        },
        "b89b18f4823f4e3e83b60cfb261e2fa9": {
          "model_module": "@jupyter-widgets/base",
          "model_name": "LayoutModel",
          "model_module_version": "1.2.0",
          "state": {
            "_model_module": "@jupyter-widgets/base",
            "_model_module_version": "1.2.0",
            "_model_name": "LayoutModel",
            "_view_count": null,
            "_view_module": "@jupyter-widgets/base",
            "_view_module_version": "1.2.0",
            "_view_name": "LayoutView",
            "align_content": null,
            "align_items": null,
            "align_self": null,
            "border": null,
            "bottom": null,
            "display": null,
            "flex": null,
            "flex_flow": null,
            "grid_area": null,
            "grid_auto_columns": null,
            "grid_auto_flow": null,
            "grid_auto_rows": null,
            "grid_column": null,
            "grid_gap": null,
            "grid_row": null,
            "grid_template_areas": null,
            "grid_template_columns": null,
            "grid_template_rows": null,
            "height": null,
            "justify_content": null,
            "justify_items": null,
            "left": null,
            "margin": null,
            "max_height": null,
            "max_width": null,
            "min_height": null,
            "min_width": null,
            "object_fit": null,
            "object_position": null,
            "order": null,
            "overflow": null,
            "overflow_x": null,
            "overflow_y": null,
            "padding": null,
            "right": null,
            "top": null,
            "visibility": null,
            "width": null
          }
        },
        "74b5c31af3ae4103bc0991144b4fe0a9": {
          "model_module": "@jupyter-widgets/controls",
          "model_name": "DescriptionStyleModel",
          "model_module_version": "1.5.0",
          "state": {
            "_model_module": "@jupyter-widgets/controls",
            "_model_module_version": "1.5.0",
            "_model_name": "DescriptionStyleModel",
            "_view_count": null,
            "_view_module": "@jupyter-widgets/base",
            "_view_module_version": "1.2.0",
            "_view_name": "StyleView",
            "description_width": ""
          }
        },
        "13fc1b2e7707456ab1eb9d7434bc5680": {
          "model_module": "@jupyter-widgets/controls",
          "model_name": "HBoxModel",
          "model_module_version": "1.5.0",
          "state": {
            "_dom_classes": [],
            "_model_module": "@jupyter-widgets/controls",
            "_model_module_version": "1.5.0",
            "_model_name": "HBoxModel",
            "_view_count": null,
            "_view_module": "@jupyter-widgets/controls",
            "_view_module_version": "1.5.0",
            "_view_name": "HBoxView",
            "box_style": "",
            "children": [
              "IPY_MODEL_731499a1213a4492ae811c4b41e68ec8",
              "IPY_MODEL_c38a5514761e41d7953176e86e498092",
              "IPY_MODEL_df2bc2c9d1c246c18bd5a849c3ceedd7"
            ],
            "layout": "IPY_MODEL_4375f74131fa49efaf06f96a592bbd98"
          }
        },
        "731499a1213a4492ae811c4b41e68ec8": {
          "model_module": "@jupyter-widgets/controls",
          "model_name": "HTMLModel",
          "model_module_version": "1.5.0",
          "state": {
            "_dom_classes": [],
            "_model_module": "@jupyter-widgets/controls",
            "_model_module_version": "1.5.0",
            "_model_name": "HTMLModel",
            "_view_count": null,
            "_view_module": "@jupyter-widgets/controls",
            "_view_module_version": "1.5.0",
            "_view_name": "HTMLView",
            "description": "",
            "description_tooltip": null,
            "layout": "IPY_MODEL_f0406718006e4719908e247c62b3ddce",
            "placeholder": "​",
            "style": "IPY_MODEL_cd9fa61ea2e04dec87f74da30374e9de",
            "value": "Downloading (…)&quot;spiece.model&quot;;: 100%"
          }
        },
        "c38a5514761e41d7953176e86e498092": {
          "model_module": "@jupyter-widgets/controls",
          "model_name": "FloatProgressModel",
          "model_module_version": "1.5.0",
          "state": {
            "_dom_classes": [],
            "_model_module": "@jupyter-widgets/controls",
            "_model_module_version": "1.5.0",
            "_model_name": "FloatProgressModel",
            "_view_count": null,
            "_view_module": "@jupyter-widgets/controls",
            "_view_module_version": "1.5.0",
            "_view_name": "ProgressView",
            "bar_style": "success",
            "description": "",
            "description_tooltip": null,
            "layout": "IPY_MODEL_4dd44b77750245eaaa9549691d80f638",
            "max": 805634,
            "min": 0,
            "orientation": "horizontal",
            "style": "IPY_MODEL_de9d697e662844f4abaaa1eaff7d053f",
            "value": 805634
          }
        },
        "df2bc2c9d1c246c18bd5a849c3ceedd7": {
          "model_module": "@jupyter-widgets/controls",
          "model_name": "HTMLModel",
          "model_module_version": "1.5.0",
          "state": {
            "_dom_classes": [],
            "_model_module": "@jupyter-widgets/controls",
            "_model_module_version": "1.5.0",
            "_model_name": "HTMLModel",
            "_view_count": null,
            "_view_module": "@jupyter-widgets/controls",
            "_view_module_version": "1.5.0",
            "_view_name": "HTMLView",
            "description": "",
            "description_tooltip": null,
            "layout": "IPY_MODEL_a17d8d0be50a4d2eac24bc6104fb8892",
            "placeholder": "​",
            "style": "IPY_MODEL_f8315e5b4dca4549acc7b6780cd09c8c",
            "value": " 806k/806k [00:00&lt;00:00, 9.36MB/s]"
          }
        },
        "4375f74131fa49efaf06f96a592bbd98": {
          "model_module": "@jupyter-widgets/base",
          "model_name": "LayoutModel",
          "model_module_version": "1.2.0",
          "state": {
            "_model_module": "@jupyter-widgets/base",
            "_model_module_version": "1.2.0",
            "_model_name": "LayoutModel",
            "_view_count": null,
            "_view_module": "@jupyter-widgets/base",
            "_view_module_version": "1.2.0",
            "_view_name": "LayoutView",
            "align_content": null,
            "align_items": null,
            "align_self": null,
            "border": null,
            "bottom": null,
            "display": null,
            "flex": null,
            "flex_flow": null,
            "grid_area": null,
            "grid_auto_columns": null,
            "grid_auto_flow": null,
            "grid_auto_rows": null,
            "grid_column": null,
            "grid_gap": null,
            "grid_row": null,
            "grid_template_areas": null,
            "grid_template_columns": null,
            "grid_template_rows": null,
            "height": null,
            "justify_content": null,
            "justify_items": null,
            "left": null,
            "margin": null,
            "max_height": null,
            "max_width": null,
            "min_height": null,
            "min_width": null,
            "object_fit": null,
            "object_position": null,
            "order": null,
            "overflow": null,
            "overflow_x": null,
            "overflow_y": null,
            "padding": null,
            "right": null,
            "top": null,
            "visibility": null,
            "width": null
          }
        },
        "f0406718006e4719908e247c62b3ddce": {
          "model_module": "@jupyter-widgets/base",
          "model_name": "LayoutModel",
          "model_module_version": "1.2.0",
          "state": {
            "_model_module": "@jupyter-widgets/base",
            "_model_module_version": "1.2.0",
            "_model_name": "LayoutModel",
            "_view_count": null,
            "_view_module": "@jupyter-widgets/base",
            "_view_module_version": "1.2.0",
            "_view_name": "LayoutView",
            "align_content": null,
            "align_items": null,
            "align_self": null,
            "border": null,
            "bottom": null,
            "display": null,
            "flex": null,
            "flex_flow": null,
            "grid_area": null,
            "grid_auto_columns": null,
            "grid_auto_flow": null,
            "grid_auto_rows": null,
            "grid_column": null,
            "grid_gap": null,
            "grid_row": null,
            "grid_template_areas": null,
            "grid_template_columns": null,
            "grid_template_rows": null,
            "height": null,
            "justify_content": null,
            "justify_items": null,
            "left": null,
            "margin": null,
            "max_height": null,
            "max_width": null,
            "min_height": null,
            "min_width": null,
            "object_fit": null,
            "object_position": null,
            "order": null,
            "overflow": null,
            "overflow_x": null,
            "overflow_y": null,
            "padding": null,
            "right": null,
            "top": null,
            "visibility": null,
            "width": null
          }
        },
        "cd9fa61ea2e04dec87f74da30374e9de": {
          "model_module": "@jupyter-widgets/controls",
          "model_name": "DescriptionStyleModel",
          "model_module_version": "1.5.0",
          "state": {
            "_model_module": "@jupyter-widgets/controls",
            "_model_module_version": "1.5.0",
            "_model_name": "DescriptionStyleModel",
            "_view_count": null,
            "_view_module": "@jupyter-widgets/base",
            "_view_module_version": "1.2.0",
            "_view_name": "StyleView",
            "description_width": ""
          }
        },
        "4dd44b77750245eaaa9549691d80f638": {
          "model_module": "@jupyter-widgets/base",
          "model_name": "LayoutModel",
          "model_module_version": "1.2.0",
          "state": {
            "_model_module": "@jupyter-widgets/base",
            "_model_module_version": "1.2.0",
            "_model_name": "LayoutModel",
            "_view_count": null,
            "_view_module": "@jupyter-widgets/base",
            "_view_module_version": "1.2.0",
            "_view_name": "LayoutView",
            "align_content": null,
            "align_items": null,
            "align_self": null,
            "border": null,
            "bottom": null,
            "display": null,
            "flex": null,
            "flex_flow": null,
            "grid_area": null,
            "grid_auto_columns": null,
            "grid_auto_flow": null,
            "grid_auto_rows": null,
            "grid_column": null,
            "grid_gap": null,
            "grid_row": null,
            "grid_template_areas": null,
            "grid_template_columns": null,
            "grid_template_rows": null,
            "height": null,
            "justify_content": null,
            "justify_items": null,
            "left": null,
            "margin": null,
            "max_height": null,
            "max_width": null,
            "min_height": null,
            "min_width": null,
            "object_fit": null,
            "object_position": null,
            "order": null,
            "overflow": null,
            "overflow_x": null,
            "overflow_y": null,
            "padding": null,
            "right": null,
            "top": null,
            "visibility": null,
            "width": null
          }
        },
        "de9d697e662844f4abaaa1eaff7d053f": {
          "model_module": "@jupyter-widgets/controls",
          "model_name": "ProgressStyleModel",
          "model_module_version": "1.5.0",
          "state": {
            "_model_module": "@jupyter-widgets/controls",
            "_model_module_version": "1.5.0",
            "_model_name": "ProgressStyleModel",
            "_view_count": null,
            "_view_module": "@jupyter-widgets/base",
            "_view_module_version": "1.2.0",
            "_view_name": "StyleView",
            "bar_color": null,
            "description_width": ""
          }
        },
        "a17d8d0be50a4d2eac24bc6104fb8892": {
          "model_module": "@jupyter-widgets/base",
          "model_name": "LayoutModel",
          "model_module_version": "1.2.0",
          "state": {
            "_model_module": "@jupyter-widgets/base",
            "_model_module_version": "1.2.0",
            "_model_name": "LayoutModel",
            "_view_count": null,
            "_view_module": "@jupyter-widgets/base",
            "_view_module_version": "1.2.0",
            "_view_name": "LayoutView",
            "align_content": null,
            "align_items": null,
            "align_self": null,
            "border": null,
            "bottom": null,
            "display": null,
            "flex": null,
            "flex_flow": null,
            "grid_area": null,
            "grid_auto_columns": null,
            "grid_auto_flow": null,
            "grid_auto_rows": null,
            "grid_column": null,
            "grid_gap": null,
            "grid_row": null,
            "grid_template_areas": null,
            "grid_template_columns": null,
            "grid_template_rows": null,
            "height": null,
            "justify_content": null,
            "justify_items": null,
            "left": null,
            "margin": null,
            "max_height": null,
            "max_width": null,
            "min_height": null,
            "min_width": null,
            "object_fit": null,
            "object_position": null,
            "order": null,
            "overflow": null,
            "overflow_x": null,
            "overflow_y": null,
            "padding": null,
            "right": null,
            "top": null,
            "visibility": null,
            "width": null
          }
        },
        "f8315e5b4dca4549acc7b6780cd09c8c": {
          "model_module": "@jupyter-widgets/controls",
          "model_name": "DescriptionStyleModel",
          "model_module_version": "1.5.0",
          "state": {
            "_model_module": "@jupyter-widgets/controls",
            "_model_module_version": "1.5.0",
            "_model_name": "DescriptionStyleModel",
            "_view_count": null,
            "_view_module": "@jupyter-widgets/base",
            "_view_module_version": "1.2.0",
            "_view_name": "StyleView",
            "description_width": ""
          }
        },
        "ae2379127c92433d9ea4f8ccebdfe9cb": {
          "model_module": "@jupyter-widgets/controls",
          "model_name": "HBoxModel",
          "model_module_version": "1.5.0",
          "state": {
            "_dom_classes": [],
            "_model_module": "@jupyter-widgets/controls",
            "_model_module_version": "1.5.0",
            "_model_name": "HBoxModel",
            "_view_count": null,
            "_view_module": "@jupyter-widgets/controls",
            "_view_module_version": "1.5.0",
            "_view_name": "HBoxView",
            "box_style": "",
            "children": [
              "IPY_MODEL_26b45419ffe5491684d34c87dfd759e7",
              "IPY_MODEL_25a44147fa2042318534fb0a0c11f922",
              "IPY_MODEL_2bed424be08346ac90e74d9e6a057877"
            ],
            "layout": "IPY_MODEL_2cd650ce42cd4b419544ceb70d6755d0"
          }
        },
        "26b45419ffe5491684d34c87dfd759e7": {
          "model_module": "@jupyter-widgets/controls",
          "model_name": "HTMLModel",
          "model_module_version": "1.5.0",
          "state": {
            "_dom_classes": [],
            "_model_module": "@jupyter-widgets/controls",
            "_model_module_version": "1.5.0",
            "_model_name": "HTMLModel",
            "_view_count": null,
            "_view_module": "@jupyter-widgets/controls",
            "_view_module_version": "1.5.0",
            "_view_name": "HTMLView",
            "description": "",
            "description_tooltip": null,
            "layout": "IPY_MODEL_c616f51183af473eaf2848379615ab85",
            "placeholder": "​",
            "style": "IPY_MODEL_ad30c0dd67e8481e86ee20b72ea7ef94",
            "value": "Downloading (…)cial_tokens_map.json: 100%"
          }
        },
        "25a44147fa2042318534fb0a0c11f922": {
          "model_module": "@jupyter-widgets/controls",
          "model_name": "FloatProgressModel",
          "model_module_version": "1.5.0",
          "state": {
            "_dom_classes": [],
            "_model_module": "@jupyter-widgets/controls",
            "_model_module_version": "1.5.0",
            "_model_name": "FloatProgressModel",
            "_view_count": null,
            "_view_module": "@jupyter-widgets/controls",
            "_view_module_version": "1.5.0",
            "_view_name": "ProgressView",
            "bar_style": "success",
            "description": "",
            "description_tooltip": null,
            "layout": "IPY_MODEL_f8c0f02e70004d51b2e7d9ae145b95a3",
            "max": 153,
            "min": 0,
            "orientation": "horizontal",
            "style": "IPY_MODEL_cfe6642d832a42058db45f7f34e77e6f",
            "value": 153
          }
        },
        "2bed424be08346ac90e74d9e6a057877": {
          "model_module": "@jupyter-widgets/controls",
          "model_name": "HTMLModel",
          "model_module_version": "1.5.0",
          "state": {
            "_dom_classes": [],
            "_model_module": "@jupyter-widgets/controls",
            "_model_module_version": "1.5.0",
            "_model_name": "HTMLModel",
            "_view_count": null,
            "_view_module": "@jupyter-widgets/controls",
            "_view_module_version": "1.5.0",
            "_view_name": "HTMLView",
            "description": "",
            "description_tooltip": null,
            "layout": "IPY_MODEL_7807512c412943669450a068c4c5e90a",
            "placeholder": "​",
            "style": "IPY_MODEL_bf9d73ad831c4dec8055ea8fcf3948a9",
            "value": " 153/153 [00:00&lt;00:00, 5.50kB/s]"
          }
        },
        "2cd650ce42cd4b419544ceb70d6755d0": {
          "model_module": "@jupyter-widgets/base",
          "model_name": "LayoutModel",
          "model_module_version": "1.2.0",
          "state": {
            "_model_module": "@jupyter-widgets/base",
            "_model_module_version": "1.2.0",
            "_model_name": "LayoutModel",
            "_view_count": null,
            "_view_module": "@jupyter-widgets/base",
            "_view_module_version": "1.2.0",
            "_view_name": "LayoutView",
            "align_content": null,
            "align_items": null,
            "align_self": null,
            "border": null,
            "bottom": null,
            "display": null,
            "flex": null,
            "flex_flow": null,
            "grid_area": null,
            "grid_auto_columns": null,
            "grid_auto_flow": null,
            "grid_auto_rows": null,
            "grid_column": null,
            "grid_gap": null,
            "grid_row": null,
            "grid_template_areas": null,
            "grid_template_columns": null,
            "grid_template_rows": null,
            "height": null,
            "justify_content": null,
            "justify_items": null,
            "left": null,
            "margin": null,
            "max_height": null,
            "max_width": null,
            "min_height": null,
            "min_width": null,
            "object_fit": null,
            "object_position": null,
            "order": null,
            "overflow": null,
            "overflow_x": null,
            "overflow_y": null,
            "padding": null,
            "right": null,
            "top": null,
            "visibility": null,
            "width": null
          }
        },
        "c616f51183af473eaf2848379615ab85": {
          "model_module": "@jupyter-widgets/base",
          "model_name": "LayoutModel",
          "model_module_version": "1.2.0",
          "state": {
            "_model_module": "@jupyter-widgets/base",
            "_model_module_version": "1.2.0",
            "_model_name": "LayoutModel",
            "_view_count": null,
            "_view_module": "@jupyter-widgets/base",
            "_view_module_version": "1.2.0",
            "_view_name": "LayoutView",
            "align_content": null,
            "align_items": null,
            "align_self": null,
            "border": null,
            "bottom": null,
            "display": null,
            "flex": null,
            "flex_flow": null,
            "grid_area": null,
            "grid_auto_columns": null,
            "grid_auto_flow": null,
            "grid_auto_rows": null,
            "grid_column": null,
            "grid_gap": null,
            "grid_row": null,
            "grid_template_areas": null,
            "grid_template_columns": null,
            "grid_template_rows": null,
            "height": null,
            "justify_content": null,
            "justify_items": null,
            "left": null,
            "margin": null,
            "max_height": null,
            "max_width": null,
            "min_height": null,
            "min_width": null,
            "object_fit": null,
            "object_position": null,
            "order": null,
            "overflow": null,
            "overflow_x": null,
            "overflow_y": null,
            "padding": null,
            "right": null,
            "top": null,
            "visibility": null,
            "width": null
          }
        },
        "ad30c0dd67e8481e86ee20b72ea7ef94": {
          "model_module": "@jupyter-widgets/controls",
          "model_name": "DescriptionStyleModel",
          "model_module_version": "1.5.0",
          "state": {
            "_model_module": "@jupyter-widgets/controls",
            "_model_module_version": "1.5.0",
            "_model_name": "DescriptionStyleModel",
            "_view_count": null,
            "_view_module": "@jupyter-widgets/base",
            "_view_module_version": "1.2.0",
            "_view_name": "StyleView",
            "description_width": ""
          }
        },
        "f8c0f02e70004d51b2e7d9ae145b95a3": {
          "model_module": "@jupyter-widgets/base",
          "model_name": "LayoutModel",
          "model_module_version": "1.2.0",
          "state": {
            "_model_module": "@jupyter-widgets/base",
            "_model_module_version": "1.2.0",
            "_model_name": "LayoutModel",
            "_view_count": null,
            "_view_module": "@jupyter-widgets/base",
            "_view_module_version": "1.2.0",
            "_view_name": "LayoutView",
            "align_content": null,
            "align_items": null,
            "align_self": null,
            "border": null,
            "bottom": null,
            "display": null,
            "flex": null,
            "flex_flow": null,
            "grid_area": null,
            "grid_auto_columns": null,
            "grid_auto_flow": null,
            "grid_auto_rows": null,
            "grid_column": null,
            "grid_gap": null,
            "grid_row": null,
            "grid_template_areas": null,
            "grid_template_columns": null,
            "grid_template_rows": null,
            "height": null,
            "justify_content": null,
            "justify_items": null,
            "left": null,
            "margin": null,
            "max_height": null,
            "max_width": null,
            "min_height": null,
            "min_width": null,
            "object_fit": null,
            "object_position": null,
            "order": null,
            "overflow": null,
            "overflow_x": null,
            "overflow_y": null,
            "padding": null,
            "right": null,
            "top": null,
            "visibility": null,
            "width": null
          }
        },
        "cfe6642d832a42058db45f7f34e77e6f": {
          "model_module": "@jupyter-widgets/controls",
          "model_name": "ProgressStyleModel",
          "model_module_version": "1.5.0",
          "state": {
            "_model_module": "@jupyter-widgets/controls",
            "_model_module_version": "1.5.0",
            "_model_name": "ProgressStyleModel",
            "_view_count": null,
            "_view_module": "@jupyter-widgets/base",
            "_view_module_version": "1.2.0",
            "_view_name": "StyleView",
            "bar_color": null,
            "description_width": ""
          }
        },
        "7807512c412943669450a068c4c5e90a": {
          "model_module": "@jupyter-widgets/base",
          "model_name": "LayoutModel",
          "model_module_version": "1.2.0",
          "state": {
            "_model_module": "@jupyter-widgets/base",
            "_model_module_version": "1.2.0",
            "_model_name": "LayoutModel",
            "_view_count": null,
            "_view_module": "@jupyter-widgets/base",
            "_view_module_version": "1.2.0",
            "_view_name": "LayoutView",
            "align_content": null,
            "align_items": null,
            "align_self": null,
            "border": null,
            "bottom": null,
            "display": null,
            "flex": null,
            "flex_flow": null,
            "grid_area": null,
            "grid_auto_columns": null,
            "grid_auto_flow": null,
            "grid_auto_rows": null,
            "grid_column": null,
            "grid_gap": null,
            "grid_row": null,
            "grid_template_areas": null,
            "grid_template_columns": null,
            "grid_template_rows": null,
            "height": null,
            "justify_content": null,
            "justify_items": null,
            "left": null,
            "margin": null,
            "max_height": null,
            "max_width": null,
            "min_height": null,
            "min_width": null,
            "object_fit": null,
            "object_position": null,
            "order": null,
            "overflow": null,
            "overflow_x": null,
            "overflow_y": null,
            "padding": null,
            "right": null,
            "top": null,
            "visibility": null,
            "width": null
          }
        },
        "bf9d73ad831c4dec8055ea8fcf3948a9": {
          "model_module": "@jupyter-widgets/controls",
          "model_name": "DescriptionStyleModel",
          "model_module_version": "1.5.0",
          "state": {
            "_model_module": "@jupyter-widgets/controls",
            "_model_module_version": "1.5.0",
            "_model_name": "DescriptionStyleModel",
            "_view_count": null,
            "_view_module": "@jupyter-widgets/base",
            "_view_module_version": "1.2.0",
            "_view_name": "StyleView",
            "description_width": ""
          }
        }
      }
    }
  },
  "cells": [
    {
      "cell_type": "markdown",
      "metadata": {
        "id": "view-in-github",
        "colab_type": "text"
      },
      "source": [
        "<a href=\"https://colab.research.google.com/github/Karasimentaiko/GPT-2/blob/main/GPT_2.ipynb\" target=\"_parent\"><img src=\"https://colab.research.google.com/assets/colab-badge.svg\" alt=\"Open In Colab\"/></a>"
      ]
    },
    {
      "cell_type": "code",
      "source": [
        "#github設定\n",
        "%cd ''"
      ],
      "metadata": {
        "colab": {
          "base_uri": "https://localhost:8080/"
        },
        "id": "9kkqZ-SdsU8m",
        "outputId": "0209cb02-1ea0-4b22-db1a-99151ec1c1e0"
      },
      "execution_count": null,
      "outputs": [
        {
          "output_type": "stream",
          "name": "stdout",
          "text": [
            "fatal: remote origin already exists.\n",
            "\n",
            "*** Please tell me who you are.\n",
            "\n",
            "Run\n",
            "\n",
            "  git config --global user.email \"you@example.com\"\n",
            "  git config --global user.name \"Your Name\"\n",
            "\n",
            "to set your account's default identity.\n",
            "Omit --global to set the identity only in this repository.\n",
            "\n",
            "fatal: unable to auto-detect email address (got 'root@59bca85505db.(none)')\n",
            "error: refname refs/heads/master not found\n",
            "fatal: Branch rename failed\n",
            "fatal: remote origin already exists.\n",
            "error: src refspec main does not match any\n",
            "\u001b[31merror: failed to push some refs to 'https://github.com/Karasimentaiko/GPT-2.git'\n",
            "\u001b[m"
          ]
        }
      ]
    },
    {
      "cell_type": "markdown",
      "source": [
        "初期設定"
      ],
      "metadata": {
        "id": "8xDl6skZoSO3"
      }
    },
    {
      "cell_type": "code",
      "execution_count": null,
      "metadata": {
        "colab": {
          "base_uri": "https://localhost:8080/"
        },
        "id": "3P6OoEhbDSxb",
        "outputId": "81f05184-7f34-4321-acb3-f0f14a7bc074"
      },
      "outputs": [
        {
          "output_type": "stream",
          "name": "stdout",
          "text": [
            "Mounted at /content/drive\n"
          ]
        }
      ],
      "source": [
        "from google.colab import drive\n",
        "drive.mount('/content/drive')"
      ]
    },
    {
      "cell_type": "code",
      "source": [
        "# ソースコードから直接transformersをインストール\n",
        "!pip install git+https://github.com/huggingface/transformers\n",
        "# rinna/japanese-gpt2-mediumのtokenizerはsentencepieceなのでsentencepieceもインストール。\n",
        "!pip install sentencepiece\n",
        "!pip install datasets"
      ],
      "metadata": {
        "id": "UGFCpWqJDTwT"
      },
      "execution_count": null,
      "outputs": []
    },
    {
      "cell_type": "markdown",
      "source": [
        "データ学習用"
      ],
      "metadata": {
        "id": "_WAbcsQDoZ1X"
      }
    },
    {
      "cell_type": "code",
      "source": [
        "!git clone https://github.com/huggingface/transformers\n",
        "\n",
        "# run_clm.pyを使います\n",
        "!ls ./transformers/examples/pytorch/language-modeling/\n",
        "# README.md   run_clm_no_trainer.py  run_mlm_no_trainer.py  run_plm.py\n",
        "# requirements.txt  run_clm.py       run_mlm.py"
      ],
      "metadata": {
        "id": "IIz0cdd9DfAU",
        "colab": {
          "base_uri": "https://localhost:8080/"
        },
        "outputId": "999b354f-b867-4187-8bf7-42e45cb2a893"
      },
      "execution_count": null,
      "outputs": [
        {
          "output_type": "stream",
          "name": "stdout",
          "text": [
            "Cloning into 'transformers'...\n",
            "remote: Enumerating objects: 124162, done.\u001b[K\n",
            "remote: Counting objects: 100% (254/254), done.\u001b[K\n",
            "remote: Compressing objects: 100% (159/159), done.\u001b[K\n",
            "remote: Total 124162 (delta 130), reused 162 (delta 79), pack-reused 123908\u001b[K\n",
            "Receiving objects: 100% (124162/124162), 119.88 MiB | 23.23 MiB/s, done.\n",
            "Resolving deltas: 100% (93107/93107), done.\n",
            "README.md\t  run_clm_no_trainer.py  run_mlm_no_trainer.py\trun_plm.py\n",
            "requirements.txt  run_clm.py\t\t run_mlm.py\n"
          ]
        }
      ]
    },
    {
      "cell_type": "code",
      "source": [
        "# 学習データの保存先\n",
        "save_dir = \"/content/drive/MyDrive/ColabNotebooks/GPT-2/\""
      ],
      "metadata": {
        "id": "BssgZt0lGYiN"
      },
      "execution_count": null,
      "outputs": []
    },
    {
      "cell_type": "code",
      "source": [
        "import pickle\n",
        "from tqdm import tqdm\n",
        "from transformers import AutoModelForCausalLM, AutoTokenizer\n",
        "tokenizer = AutoTokenizer.from_pretrained(\"rinna/japanese-gpt2-medium\")"
      ],
      "metadata": {
        "id": "p5Z1ltoKDt8A",
        "colab": {
          "base_uri": "https://localhost:8080/",
          "height": 113,
          "referenced_widgets": [
            "562e4fadec1846e4a7354c0bfe68963b",
            "549e57e627a244d4b269223ff090ccc5",
            "3507f0a2eee04b92bf4e62f219abb0eb",
            "be8fcf0b789842eea015832e91196720",
            "b3f1f0db3c784dd398d5cb74c92a95a5",
            "0f0a52f220e144c5bb7bde6e68bae5cd",
            "4259a2c92a9147aa8cfec92a5b7c2494",
            "fa6ec7a31c7547ec887c44106e6ccea6",
            "47e7089fa9c74465a56fa545ead0e4f3",
            "b89b18f4823f4e3e83b60cfb261e2fa9",
            "74b5c31af3ae4103bc0991144b4fe0a9",
            "13fc1b2e7707456ab1eb9d7434bc5680",
            "731499a1213a4492ae811c4b41e68ec8",
            "c38a5514761e41d7953176e86e498092",
            "df2bc2c9d1c246c18bd5a849c3ceedd7",
            "4375f74131fa49efaf06f96a592bbd98",
            "f0406718006e4719908e247c62b3ddce",
            "cd9fa61ea2e04dec87f74da30374e9de",
            "4dd44b77750245eaaa9549691d80f638",
            "de9d697e662844f4abaaa1eaff7d053f",
            "a17d8d0be50a4d2eac24bc6104fb8892",
            "f8315e5b4dca4549acc7b6780cd09c8c",
            "ae2379127c92433d9ea4f8ccebdfe9cb",
            "26b45419ffe5491684d34c87dfd759e7",
            "25a44147fa2042318534fb0a0c11f922",
            "2bed424be08346ac90e74d9e6a057877",
            "2cd650ce42cd4b419544ceb70d6755d0",
            "c616f51183af473eaf2848379615ab85",
            "ad30c0dd67e8481e86ee20b72ea7ef94",
            "f8c0f02e70004d51b2e7d9ae145b95a3",
            "cfe6642d832a42058db45f7f34e77e6f",
            "7807512c412943669450a068c4c5e90a",
            "bf9d73ad831c4dec8055ea8fcf3948a9"
          ]
        },
        "outputId": "00c01c2a-5b5c-40dd-f154-b0c05602f8da"
      },
      "execution_count": null,
      "outputs": [
        {
          "output_type": "display_data",
          "data": {
            "text/plain": [
              "Downloading (…)okenizer_config.json:   0%|          | 0.00/282 [00:00<?, ?B/s]"
            ],
            "application/vnd.jupyter.widget-view+json": {
              "version_major": 2,
              "version_minor": 0,
              "model_id": "562e4fadec1846e4a7354c0bfe68963b"
            }
          },
          "metadata": {}
        },
        {
          "output_type": "display_data",
          "data": {
            "text/plain": [
              "Downloading (…)\"spiece.model\";:   0%|          | 0.00/806k [00:00<?, ?B/s]"
            ],
            "application/vnd.jupyter.widget-view+json": {
              "version_major": 2,
              "version_minor": 0,
              "model_id": "13fc1b2e7707456ab1eb9d7434bc5680"
            }
          },
          "metadata": {}
        },
        {
          "output_type": "display_data",
          "data": {
            "text/plain": [
              "Downloading (…)cial_tokens_map.json:   0%|          | 0.00/153 [00:00<?, ?B/s]"
            ],
            "application/vnd.jupyter.widget-view+json": {
              "version_major": 2,
              "version_minor": 0,
              "model_id": "ae2379127c92433d9ea4f8ccebdfe9cb"
            }
          },
          "metadata": {}
        }
      ]
    },
    {
      "cell_type": "markdown",
      "source": [
        "you"
      ],
      "metadata": {
        "id": "oxQG9hPVt1Tp"
      }
    },
    {
      "cell_type": "code",
      "source": [
        "with open('/content/drive/MyDrive/Colab Notebooks/GPT-2/output_you_text.txt','r') as f:\n",
        "  you_text = f.read()\n",
        "#you_text"
      ],
      "metadata": {
        "id": "Q6REHPpxX-Jj"
      },
      "execution_count": null,
      "outputs": []
    },
    {
      "cell_type": "markdown",
      "source": [
        "tsukuyomi"
      ],
      "metadata": {
        "id": "qPbeC6iGt66p"
      }
    },
    {
      "cell_type": "code",
      "source": [
        "with open('/content/drive/MyDrive/Colab Notebooks/GPT-2/output_tsukuyomi_text.txt','r') as f:\n",
        "  tsukuyomi_text = f.read()\n",
        "#tsukuyomi_text"
      ],
      "metadata": {
        "id": "WlQkGvkNZD3f"
      },
      "execution_count": null,
      "outputs": []
    },
    {
      "cell_type": "markdown",
      "source": [
        "データ整理"
      ],
      "metadata": {
        "id": "90Ov9qmrA87K"
      }
    },
    {
      "cell_type": "code",
      "source": [
        "you_text_list = you_text.split('\\n')\n",
        "tsukuyomi_text_list = tsukuyomi_text.split('\\n')"
      ],
      "metadata": {
        "id": "gFbLAh2EN-6a"
      },
      "execution_count": null,
      "outputs": []
    },
    {
      "cell_type": "code",
      "source": [
        "with open('/content/drive/MyDrive/Colab Notebooks/GPT-2/gpt2_train_data.txt', 'w') as output_file:\n",
        "    tmp = []\n",
        "    for x, y in zip(you_text_list, tsukuyomi_text_list):\n",
        "        # 本文のトークン数が256までで制限\n",
        "        inp_tokens = tokenizer.tokenize(x)[:256]\n",
        "        inp = \"\".join(inp_tokens).replace('▁', '')\n",
        "        out_tokens = tokenizer.tokenize(y)[:256]\n",
        "        out = \"\".join(out_tokens).replace('▁', '')\n",
        "        \n",
        "        data = '<s>'+ inp + '[SEP]' + out + '</s>' + '\\n'\n",
        "        tmp.append(data)\n",
        "    text = ''.join(tmp)*5\n",
        "    output_file.write(text)"
      ],
      "metadata": {
        "id": "J-W3AzLBQs5d"
      },
      "execution_count": null,
      "outputs": []
    },
    {
      "cell_type": "code",
      "source": [
        "with open('/content/drive/MyDrive/Colab Notebooks/GPT-2/gpt2_train_data.txt', 'r') as r:\n",
        "    print(r.read())\n"
      ],
      "metadata": {
        "id": "mRDmMO2jWLnh"
      },
      "execution_count": null,
      "outputs": []
    },
    {
      "cell_type": "markdown",
      "source": [
        "ファインチューニング"
      ],
      "metadata": {
        "id": "ziVf2LVM_jAc"
      }
    },
    {
      "cell_type": "code",
      "source": [
        "!git clone 'https://github.com/huggingface/transformers.git'\n",
        "!pip install sentencepiece\n",
        "!pip install datasets\n",
        "!pip install evaluate"
      ],
      "metadata": {
        "id": "ZBSvyNZOzLp1"
      },
      "execution_count": null,
      "outputs": []
    },
    {
      "cell_type": "code",
      "source": [
        "!python './transformers/examples/pytorch/language-modeling/run_clm.py' \\\n",
        "    --model_name_or_path='rinna/japanese-gpt2-medium' \\\n",
        "    --train_file='/content/drive/MyDrive/Colab Notebooks/GPT-2/gpt2_train_data.txt' \\\n",
        "    --validation_file='/content/drive/MyDrive/Colab Notebooks/GPT-2/gpt2_train_data.txt' \\\n",
        "    --do_train \\\n",
        "    --do_eval \\\n",
        "    --num_train_epochs=10 \\\n",
        "    --save_steps=10000 \\\n",
        "    --save_total_limit=3 \\\n",
        "    --per_device_train_batch_size=1 \\\n",
        "    --per_device_eval_batch_size=1 \\\n",
        "    --output_dir='/content/drive/MyDrive/Colab Notebooks/GPT-2/output/' \\\n",
        "    --use_fast_tokenizer=False"
      ],
      "metadata": {
        "id": "nn883oERzVjY"
      },
      "execution_count": null,
      "outputs": []
    },
    {
      "cell_type": "markdown",
      "source": [
        "会話生成"
      ],
      "metadata": {
        "id": "zLLgyeKDWLGF"
      }
    },
    {
      "cell_type": "markdown",
      "source": [
        "シロワニさんのつくよみちゃんトークソフト\n",
        "https://colab.research.google.com/drive/1VX1pPK-A5KHcUnpBz__IYXzVR-93ECan?usp=sharing"
      ],
      "metadata": {
        "id": "4STiLifaKvy0"
      }
    },
    {
      "cell_type": "code",
      "source": [
        "############# 修正NG! #############\n",
        "# ここのコードで環境構築を行っています。\n",
        "# ここのコードは修正すると動かくなる可能性があります。\n",
        "# 環境構築には3分程度かかります。\n",
        "# 途中ERRORと表示される可能性がありますが、気にしなくても大丈夫です。\n",
        "\n",
        "print(\"===== 現在環境構築をしております。しばらくお待ちください。 =====\")\n",
        "import os\n",
        "os.chdir(\"/content/\")\n",
        "!git clone https://github.com/shirowanisan/tsukuyomichan-talksoft.git\n",
        "os.chdir(\"/content/tsukuyomichan-talksoft\")\n",
        "!pip -q install -r requirements.txt\n",
        "!pip install --upgrade gdown\n",
        "from tsukuyomichan_talksoft import TsukuyomichanTalksoft\n",
        "tsukuyomichan_talksoft = TsukuyomichanTalksoft(model_version='v.1.2.0')\n",
        "from IPython.display import display, Audio\n",
        "fs = 24000\n",
        "print(\"===== 環境構築が完了いたしました。 =====\")\n",
        "#################################"
      ],
      "metadata": {
        "id": "hMmfz0a50u3N"
      },
      "execution_count": null,
      "outputs": []
    },
    {
      "cell_type": "code",
      "source": [
        "def talk_soft(text, gacha = 0):\n",
        "    ############# 修正OK #############\n",
        "    # ここのコードで生成する音声のテキスト、音声ガチャ値を設定します。\n",
        "    # ガチャ値を数値で設定してください。同じテキスト・ガチャ値からは同じ音声が生成されます。\n",
        "    # ガチャ値の大小に意味はありません。\n",
        "    # ガチャ値が近いからといって、似た音声が生成されるわけではありませんのでご注意ください。\n",
        "    gacha = 0\n",
        "    #################################\n",
        "\n",
        "\n",
        "    ############# 修正NG! #############\n",
        "    # ここのコードで音声の生成・表示を行います。\n",
        "    # ここのコードは修正すると動かなくなる可能性があります。\n",
        "    # 音声生成には数秒がかかる可能性があります。\n",
        "    # 初回生成時のみ辞書のダウンロードがあり、余分に時間がかかります。\n",
        "\n",
        "    wav = tsukuyomichan_talksoft.generate_voice(text, gacha)\n",
        "    print(f\"テキスト: {text}\")\n",
        "    print(f\"ガチャ値: {gacha}\")\n",
        "    display(Audio(wav, rate=fs))\n",
        "    #################################"
      ],
      "metadata": {
        "id": "f8Sn1x8JKnfr"
      },
      "execution_count": null,
      "outputs": []
    },
    {
      "cell_type": "markdown",
      "source": [
        "感情分析"
      ],
      "metadata": {
        "id": "MeonDUa67UqT"
      }
    },
    {
      "cell_type": "code",
      "source": [
        "!pip install pymlask\n",
        "!apt install aptitude\n",
        "!aptitude install mecab libmecab-dev mecab-ipadic-utf8 git make curl xz-utils file -y\n",
        "!pip install mecab-python3==0.7"
      ],
      "metadata": {
        "id": "bNm2tvdHbBW1"
      },
      "execution_count": null,
      "outputs": []
    },
    {
      "cell_type": "code",
      "source": [
        "from mlask import MLAsk\n",
        "emotion_analyzer = MLAsk()"
      ],
      "metadata": {
        "id": "IeaBo97m7hHa"
      },
      "execution_count": null,
      "outputs": []
    },
    {
      "cell_type": "markdown",
      "source": [
        "文章生成"
      ],
      "metadata": {
        "id": "tiWE0yuG1-Nm"
      }
    },
    {
      "cell_type": "code",
      "source": [
        "import torch\n",
        "import os\n",
        "from transformers import AutoModelForCausalLM, AutoTokenizer\n",
        "#from tsukuyomichan_talksoft import TsukuyomichanTalksoft\n",
        "#tsukuyomichan_talksoft = TsukuyomichanTalksoft(model_version='v.1.2.0')\n",
        "from IPython.display import display, Audio\n",
        "fs = 24000"
      ],
      "metadata": {
        "id": "MbdMn2Ve3zct"
      },
      "execution_count": null,
      "outputs": []
    },
    {
      "cell_type": "code",
      "source": [
        "device = torch.device(\"cuda\" if torch.cuda.is_available() else \"cpu\")\n",
        "\n",
        "tokenizer = AutoTokenizer.from_pretrained(\"rinna/japanese-gpt2-medium\")\n",
        "tokenizer.do_lower_case = True\n",
        "tokenizer.padding_side = 'left'\n",
        "model = AutoModelForCausalLM.from_pretrained('/content/drive/MyDrive/Colab Notebooks/GPT-2/output/')\n",
        "model.to(device)\n",
        "model.eval()"
      ],
      "metadata": {
        "id": "FxdZnAX54hdl"
      },
      "execution_count": null,
      "outputs": []
    },
    {
      "cell_type": "code",
      "source": [
        "def conversation_generation(inp, num_gen=1):\n",
        "    input_text = \"<s>\" + str(inp) + \"[SEP]\"\n",
        "    input_ids = tokenizer.encode(input_text, return_tensors='pt', padding=True).to(device)\n",
        "    out = model.generate(input_ids, do_sample=True, max_length=128, num_return_sequences=num_gen,\n",
        "                         top_p=0.95, top_k=50, bad_words_ids=[[1], [5]], no_repeat_ngram_size=3)\n",
        "    for sent in tokenizer.batch_decode(out):\n",
        "        sent = sent.split('[SEP]</s>')[1]\n",
        "        sent = sent.replace('</s>', '')\n",
        "        return sent"
      ],
      "metadata": {
        "id": "-gRRTSxWtQec"
      },
      "execution_count": null,
      "outputs": []
    },
    {
      "cell_type": "markdown",
      "source": [
        "会話開始"
      ],
      "metadata": {
        "id": "j5LCJ9t7lL4s"
      }
    },
    {
      "cell_type": "code",
      "source": [
        "you_text = str(input())\n",
        "#文章生成\n",
        "tsukuyomi_talk =  conversation_generation(you_text)\n",
        "print(tsukuyomi_talk)\n",
        "#感情生成\n",
        "#emotion_analyzer.analyze(tsukuyomi_talk)\n",
        "\n",
        "#音声生成\n",
        "#talk_soft(tsukuyomi_talk)"
      ],
      "metadata": {
        "id": "hFqMBowx0j0C",
        "colab": {
          "base_uri": "https://localhost:8080/"
        },
        "outputId": "d8226534-f302-46b3-911d-a384060c9a87"
      },
      "execution_count": null,
      "outputs": [
        {
          "name": "stdout",
          "output_type": "stream",
          "text": [
            "何か作って\n"
          ]
        },
        {
          "output_type": "stream",
          "name": "stderr",
          "text": [
            "The attention mask and the pad token id were not set. As a consequence, you may observe unexpected behavior. Please pass your input's `attention_mask` to obtain reliable results.\n",
            "Setting `pad_token_id` to `eos_token_id`:2 for open-end generation.\n",
            "A decoder-only architecture is being used, but right-padding was detected! For correct generation results, please set `padding_side='left'` when initializing the tokenizer.\n"
          ]
        },
        {
          "output_type": "stream",
          "name": "stdout",
          "text": [
            "私は<unk>ですので、何ができるか分かりませんが、よろしいですか?\n"
          ]
        }
      ]
    },
    {
      "cell_type": "code",
      "source": [],
      "metadata": {
        "id": "OXxX3giw8dIj"
      },
      "execution_count": null,
      "outputs": []
    }
  ]
}